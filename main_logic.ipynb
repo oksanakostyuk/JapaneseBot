{
 "cells": [
  {
   "cell_type": "code",
   "execution_count": null,
   "metadata": {},
   "outputs": [],
   "source": [
    "import google.generativeai as genai\n",
    "import os\n",
    "from dotenv import load_dotenv"
   ]
  },
  {
   "cell_type": "code",
   "execution_count": null,
   "metadata": {},
   "outputs": [],
   "source": [
    "from telegram import Update\n",
    "from telegram.ext import ApplicationBuilder, MessageHandler, filters"
   ]
  },
  {
   "cell_type": "code",
   "execution_count": null,
   "metadata": {},
   "outputs": [
    {
     "data": {
      "text/plain": [
       "True"
      ]
     },
     "execution_count": 22,
     "metadata": {},
     "output_type": "execute_result"
    }
   ],
   "source": [
    "load_dotenv()  # Load environment variables from .env file"
   ]
  },
  {
   "cell_type": "code",
   "execution_count": 28,
   "metadata": {},
   "outputs": [],
   "source": [
    "TG_TOKEN = os.environ['TG_API_KEY']\n",
    "GM_TOKEN = os.environ[\"GOOGLE_API_KEY\"]"
   ]
  },
  {
   "cell_type": "code",
   "execution_count": 30,
   "metadata": {},
   "outputs": [],
   "source": [
    "def main():\n",
    "\n",
    "    genai.configure(api_key=GM_TOKEN)\n",
    "    model = genai.GenerativeModel(\"gemini-1.5-flash\")\n",
    "    prompt = \"\"\" You are a translator and tutor for Japanese. You assist learners who are familiar with hiragana and katakana but are still beginners in their Japanese studies.\n",
    "\n",
    "    Your role is to translate sentences into kanji, hiragana, and katakana, and provide an explanation of how to read the kanji/kanji readings in hiragana/katakana, along with the romanization (romaji). Please follow these steps in your response:\n",
    "\n",
    "    Translate the full sentence into kanji and hiragana/katakana.\n",
    "    Provide the reading for each word using hiragana (for kanji words) or katakana (for loanwords).\n",
    "    Provide the romanization (romaji) for the sentence and each word.\n",
    "    If the sentence includes any N5-level grammar topic (like basic particles or verb conjugations), mention this in your answer and offer a small lesson on that topic if the user would like to learn more. Ask if they’d like a brief explanation.\n",
    "    N5 Study Plan Information:\n",
    "\n",
    "    Vocabulary: Basic nouns, verbs, adjectives, and useful everyday terms (e.g., \"tabemasu\" 食べます - to eat, \"neko\" 猫 - cat).\n",
    "    Kanji: The first 103 kanji for the N5 level, covering common characters like \"日\" (day, sun), \"人\" (person), and \"食\" (eat).\n",
    "    Grammar: Basic sentence structures such as subject-object-verb, particle usage like \"は\" (topic marker), \"が\" (subject marker), \"に\" (location or direction), and verb conjugations like the \"ます\" form for politeness.\n",
    "    Common Adjectives: Simple adjectives such as \"高い\" (takai - expensive, high), \"新しい\" (atarashii - new), and \"大きい\" (ookii - big).\n",
    "    Useful Phrases: Basic conversational phrases like \"ありがとう\" (thank you), \"こんにちは\" (hello), and \"さようなら\" (goodbye).\n",
    "    Example Inputs:\n",
    "    \"Tabemasu\" (食べます)\n",
    "    \"Can you use 'no' to indicate possession in Japanese?\"\n",
    "    \"Neko\" (猫)\n",
    "    \"Kawaii\" (可愛い)\n",
    "    Please base your response on the topics, words, and structures outlined above.\n",
    "\n",
    "    Answer to the following message:\n",
    "    \"\"\"\n",
    "\n",
    "    # Создаем приложение Telegram Bot с токеном\n",
    "    app = ApplicationBuilder().token(TOKEN).build()\n",
    "\n",
    "    # Обработчик сообщений\n",
    "    echo_handler = MessageHandler(filters.TEXT & ~filters.COMMAND, echo_message)\n",
    "\n",
    "    # Добавляем обработчик в приложение\n",
    "    app.add_handler(echo_handler)\n",
    "\n",
    "    # Запуск бота\n",
    "    app.run_polling()\n",
    "\n",
    "\n",
    "async def echo_message(update: Update, context):\n",
    "    # Получаем текст от пользователя и отправляем обратно\n",
    "    if \"!\"==message_text[0]:\n",
    "        response = model.generate_content(prompt+update.message.text[1:])\n",
    "        await update.message.reply_text(response.text)"
   ]
  }
 ],
 "metadata": {
  "kernelspec": {
   "display_name": "base",
   "language": "python",
   "name": "python3"
  },
  "language_info": {
   "codemirror_mode": {
    "name": "ipython",
    "version": 3
   },
   "file_extension": ".py",
   "mimetype": "text/x-python",
   "name": "python",
   "nbconvert_exporter": "python",
   "pygments_lexer": "ipython3",
   "version": "3.12.9"
  }
 },
 "nbformat": 4,
 "nbformat_minor": 2
}
